{
 "cells": [
  {
   "cell_type": "markdown",
   "metadata": {},
   "source": [
    "# Quantum Mechanics Foundations\n",
    "*by Ross Mariano*\n",
    "\n",
    "```{contents}\n",
    "\n",
    "```"
   ]
  },
  {
   "cell_type": "markdown",
   "metadata": {},
   "source": [
    "## Quantum wave function and quantum states\n",
    "\n",
    "The quantum wave function $\\psi$ is the mathematical descriptiioni of the quantum state of particles such as electrons, atoms, or molecules. It is a complex-valued function that depends on the particle's position $x$ and time $t$, thus denoted as $\\psi(x,t)$. The quantum wave functioin $\\psi(x,t)$ describes the spatial distribution  of a particle that containis all information about the particle's quantum state, similar to how electromagnetic waves describe electric and magnetic fields. This functioini is essential in predicting how quantum systems evolve over time and where particles are likely to be found."
   ]
  },
  {
   "cell_type": "markdown",
   "metadata": {},
   "source": [
    "The Schrödinger equation is the fundamental equation governing the behavior of quantum systems. It is analogous to Newton's laws in classical mechanics and Maxwell's equationis in electromagnetism. The Schrödinger equation is given by,\n",
    "\n",
    "$$\n",
    "i\\hbar\\frac{\\partial \\psi}{\\partial t} = - \\frac{\\hbar^2}{2m}\\frac{\\partial^2 \\psi}{\\partial x^2} + V \\psi\n",
    "$$\n",
    "\n",
    "Here, $i$ is the imaginary number, $\\hbar$ is the reduced Planck's constant, $m$ is the particle's mass, and $V(x,t)$ is the potential energy as a function of position and time. Solving the Schrödinger equation yields the quantum wave function $\\psi(x,t)$, which describes the quantum state of the particle."
   ]
  },
  {
   "cell_type": "markdown",
   "metadata": {},
   "source": [
    "The wave function $\\psi$ does not directly provide the probability of finding a particle at a specific position. Instead, the probability density is given by the square modulues of the wave function $|\\psi(x,t)|^2$. This is known as the Born rule. According to the Born rule, $|\\psi(x,t)|^2$ represents the probability density function, which describes the likelihood of finding the particle at a position $x$ at time $t$. For a particle in one dimension, the probability of finding the particle between positions $a$ and $b$ at time $t$ is determined by integrating the probability density over that interval.\n",
    "\n",
    "$$\n",
    "\\int_a^b |\\psi(x,t)|^2 dx\n",
    "$$\n",
    "\n",
    "This integral gives the total probability of finding the particle within the specified interval at a given time. This statistical interpretation is fundamental to understanding and predicting the behavior of quantum systems.\n",
    "\n",
    "This integral gives the area under $|\\psi|^2$. Since this is the statistical interpretation of the quantum wave function, the probability produces indeterminacy. Unlike in classical mechanics, where particles have well-defined positions and velocities, quantum mechanics only provides probabilities. The position of a partiicle still cannot be measured with absolute certainty. The statistical interpretation of quantum mechanics offers the information of all possible resulting quantum states. This indeterminacy means that repeated measurements of the particle's positions will yield different results as defined by the probability distribution $|\\psi(x,t)|^2$. This means that when measuring a particle and it is found to be at $x_0$, repeating the measurement could yield that the particle's position is at $x_1$. When a measurement is performed, this is known as the wave function collapse, and the particle takes a quantum state at measurement. When a measurement is made, the wave function collapses to a specific eigenstate corresponding to the measured value. For instance, if a particle's position is measured to be at $x_0$, this means that the wave function collapses to a state peaking around $x_0$."
   ]
  },
  {
   "cell_type": "markdown",
   "metadata": {},
   "source": [
    "For $|\\psi(x,t)|^2$ to be a valid probability density, it must integrate to 1 over the entire space, implying the certainty that the particle exists somewhere in that space. This is known as normalization.\n",
    "\n",
    "$$\n",
    "\\int_{-\\infty}^{\\infty} |\\psi(x,t)|^2 dx =1\n",
    "$$\n",
    "\n",
    "Normalization ensures that the total probability of finding the particle somewhere is the space is 1. If $\\psi(x,t)$ is a solution to the Schrödinger equation, then $A\\psi(x,t)$ is also a solution, where $A$ is a complex normalization constant determined to satisfy the normalization condition. Mathematically, this also works because if $\\psi(x,t)$ is a solution to the Schrödinger equation, then $A\\psi(x,t)$ is also a solution, where $A$ is any complex constant."
   ]
  },
  {
   "cell_type": "markdown",
   "metadata": {},
   "source": [
    "## Quantum superposition and interference\n",
    "\n",
    "Quantum superposition is a fundamental principle in quantum mechanics that states that a quantum state can exist as a simultaneous configuration of multiple other quantum states. Mathematically, this is interpreted as the linear combination of solutions to the Schrödiniger equation. This also comes from the fact that the Schrödinger equatioin is a linear differential equation. If $\\psi_1$ is a solution, and if $\\psi_1$ is also a solution, the its combination $\\psi=\\psi_0+\\psi_1$ is also a solution to the Schrödinger equation. This is the underlying principle that is commonly known as being in \"both states at once\".\n",
    "\n",
    "Quantum superposition can be observed when performing experiments involving light. Recall that light is a form of electromagnetic radiation and thus exhibits wave like properties. The light we experience in our everyday lives comes from different sources, mainly the sun, and others such as lightbulbs and our smartphones. These sources emit different wavelengths, energies, and rotations of light, in which our eyes perceive at the same time. This is an occurrence of superposition of different polarized states of light. Indirect sources of light also affect its state. Light reflecting off walls and objects, the opacity of these materials, can also determine the state of the light.\n",
    "\n",
    "An experiment involving light filters, screens that block light, can be performed to further understand this phenomenon. Suppose a light beam is passes through a layer of a horizontal filter, the amount of light is reduced since only the horizontal component of light passes through. If the second layer is also a horizontal filter, all light coming from the first layer will come through. However, if the second layer is positioned diagonally, the light will be further be reduced as only a portion of the light is being allowed to go through. \n",
    "\n",
    "This experiment shows that light is composed of superpositions of different states of light. Light is composed of superpositions of vertical and horizontal components. If light was not composed of superpositions, then the second filter would not allow any light to pass through."
   ]
  },
  {
   "cell_type": "markdown",
   "metadata": {},
   "source": [
    "Quantum superposition leads to another principle, quantum interference. When a quantum state is in a superposition of multiple states, these states can interfere with each other either constructively or destructively. This happens because quantum states are described by the quantum wave function, which interfere with each other analogously to classical waves. A famous example of this phenomenon is the double-slit experiment in which light is passed through two slits, and as they interfere with themselves, they create an interference pattern of alternating bright and dark spots on a projected screen. The bright spots are the result of constructive interference, and the dark spots are the result of destructive interference. \n",
    "\n",
    "The double slit experiment is one of the experiments that demonstrate a famous property in quantum mechanics: the wave-particle duality. The experiment is designed so that electrons are fired at two thin slits and then hit a detector wall. Considering the model that electrons are classical particles, the electrons would simply pass through both slits and form two lines at the detector wall. However, this is not the result of the experiment. The electrons form areas of bright and dark, indicating that they do not behave as classical particles on their way to the detector wall. Firing one electron at a time might lead one to think that the particle would always go through either the left slit or the right slit and form a solid area at the detector screen. However, this is also not the case. The electrons will still form areas of bright and dark. This leads to the model that electrons and quantum particles exhibit wave-like properties. Even if only one electron is fired, interference still occurs as the electrons interacts with both slits simultaneously. We say that the electron passes through both slits. "
   ]
  },
  {
   "cell_type": "markdown",
   "metadata": {},
   "source": [
    "## Quantum entanglement\n",
    "\n",
    "Quantum entanglement is a property in quantum mechanics in which quantum states cannot be separated into its basis states. Two or more particles are said to be entangled if the quantum state of one particle cannot be described independently of the state of the other particles. When particles are entangled, their quantum states are strongly correlated and then measurements of one particle influence the result of the others. Einstein called this phenomenon “spooky action at a distance”.\n",
    "\n",
    "A famous study relating to quantum entanglement is the Einstein-Podolsky-Rosen paradox, or EPR paradox made in 1935. The EPR paradox considers a pair of particles such that they are entangled. According to quantum mechanics, quantum particles exist in superposition of states until they are measured. If a measurement is made on one particle, then by entanglement, the other particle is also determined. This would imply that there is an instantaneous transmission of information between the two particles. Einstein found this phenomenon unacceptable as this would imply that the quantum particles are transmitting information faster than light and that would violate the theory of relativity. The EPR paradox says that quantum theory is incomplete and there must be hidden variables that describes this phenomenon.\n",
    "\n",
    "Bell’s theorem states that the theory of local hidden variables is incompatible with quantum mechanics. Bell’s theorem says that if a hidden variable theory is local then it is not compatible with quantum mechanics, and if such a theory agrees with quantum mechanics, then it is non-local. \n",
    "\n",
    "Quantum particles, such as electrons, have a property named the quantum spin, which have values of either spin up or spin down. When an electron passes through a magnetic field, the electron is deflected towards to either the north pole or south pole of the magnetic field. These corresponds to the electron taking a spin of either up or down. Suppose we have a quantum system that emits two electrons, then via conservation of angular momentum, if one electron is measured to have spin up, the other must have spin down.\n",
    "\n",
    "Bell used this concept to prove his theorem. Let’s consider if hidden variables were true. If A is measured on the Z direction and yields +1, then B will yield -1 on the Z direction. If A is measured on the Z direction and yields -1, then B will yield +1 on the Z direction. This can be seen in the following table\n",
    "\n",
    "| A particle on Z direction | A particle on X direction | B particle on Z direction | B particle on X direction |\n",
    "|:-------------------------:|:-------------------------:|:-------------------------:|:-------------------------:|\n",
    "|             +1            |             +1            |             -1            |             -1            |\n",
    "|             +1            |             -1            |             -1            |             +1            |\n",
    "|             -1            |             +1            |             +1            |             -1            |\n",
    "|             -1            |             -1            |             +1            |             +1            |"
   ]
  },
  {
   "cell_type": "markdown",
   "metadata": {},
   "source": [
    "Suppose now three axes, $Z,X$ are orthogonal to each other, and $Q$ is at a $45^\\circ$ angle. We can use this to show Bell's inequality that there are no hidden variables. Suppose we have two particles $A,B$ and we can measure them in each directiioni with 2 possible states, $\\pm1$. Thus, there will be $2^3=8$ total possible states. The results can be seen in the following table\n",
    "\n",
    "| Event | $Z_A$ | $X_A$ | $Q_A$ | $Z_B$ | $X_B$ | $Q_B$ |\n",
    "|-------|-------|-------|-------|-------|-------|-------|\n",
    "| E1    | +1    | +1    | +1    | -1    | -1    | -1    |\n",
    "| E2    | +1    | +1    | -1    | -1    | -1    | +1    |\n",
    "| E3    | +1    | -1    | +1    | -1    | +1    | -1    |\n",
    "| E4    | +1    | -1    | -1    | -1    | +1    | +1    |\n",
    "| E5    | -1    | +1    | +1    | +1    | -1    | -1    |\n",
    "| E6    | -1    | -1    | +1    | +1    | +1    | -1    |\n",
    "| E7    | -1    | +1    | -1    | +1    | -1    | +1    |\n",
    "| E8    | -1    | -1    | -1    | +1    | +1    | +1    |"
   ]
  },
  {
   "cell_type": "markdown",
   "metadata": {},
   "source": [
    "Suppose we want to determine the event in which $A$ is measured +1 in the $Z$ direction, and $B$ is measured +1 in the $X$ direction, what is its probability? Since $B$ is +1 in the $X$ direction, then $A$ must be -1 in the $X$ direction. This corresponds to the events E3 and E4.\n",
    "\n",
    "$$\n",
    "\\text{Pr}(Z_+,X_+) = \\frac{E3+E4}{8} = \\frac{2}{8} = \\frac{1}{4}\n",
    "$$\n",
    "\n",
    "Additionally, we also want to determine the probability in which $A$ is measured +1 in the $Z$ direction and $B$ is measured +1 in the $Q$ direction. This corresponds to E2 and E4.\n",
    "\n",
    "$$\n",
    "\\text{Pr}(Z_+,Q_+) = \\frac{E2+E4}{8} = \\frac{2}{8} = \\frac{1}{4} \n",
    "$$\n",
    "\n",
    "Lastly, we determine the probability that $A$ is measured +1 in the $Q$ direction and $B$ is measured +1 in the $X$ direction. This corresponds E3 and E6.\n",
    "\n",
    "$$\n",
    "\\text{Pr}(Q_+,X_+) = \\frac{E3+E6}{8} = \\frac{2}{8} = \\frac{1}{4} \n",
    "$$\n",
    "\n",
    "Bell now posits the inequality\n",
    "\n",
    "$$\n",
    "\\begin{aligned}\n",
    "\\text{Pr}(Z_+, X_+) &\\leq \\text{Pr}(Z_+, Q_+) + \\text{Pr}(Q_+, X_+)\\\\\n",
    "\\frac{E3 + E4}{8} &\\leq \\frac{E2 + E4}{8} + \\frac{E3 + E6}{8}\\\\\n",
    "E3 + E4 &\\leq E2 + E4 + E3 + E6\\\\\n",
    "E3 + E4 &\\leq E3 + E4 + E2 + E6\n",
    "\\end{aligned}\n",
    "$$\n",
    "\n",
    "This is true since E3 + E4 are on both sides of the inequality."
   ]
  },
  {
   "cell_type": "markdown",
   "metadata": {},
   "source": [
    "However, Bell's inequality is broken under the observations of quantum mechanics. Suppose a unit vector $\\hat{n} = \\sin{\\theta}\\cos{\\phi}\\hat{x} + \\sin{\\theta}\\cos{\\phi}\\hat{y} +\\cos{\\theta}\\hat{z}$. The eigenvectors with the Pauli vector are\n",
    "\n",
    "$$\n",
    "\\begin{aligned}\n",
    "|+_n \\rangle &= \\cos{\\frac{\\theta}{2}} |0\\rangle + e^{i\\phi} \\sin{\\frac{\\theta}{2}}|1\\rangle\\\\\n",
    "|-_n \\rangle &= \\cos{\\frac{\\theta}{2}} |0\\rangle - e^{i\\phi} \\sin{\\frac{\\theta}{2}}|1\\rangle\n",
    "\\end{aligned}\n",
    "$$\n",
    "\n",
    "The probability that we measure $|0\\rangle$ in the state $|+_n\\rangle$ is\n",
    "\n",
    "$$\n",
    "\\begin{aligned}\n",
    "\\langle 0 | +_n \\rangle &= \\cos{\\frac{\\theta}{2}}\\\\\n",
    "|\\langle 0 | +_n \\rangle|^2 &= \\cos^2{\\frac{\\theta}{2}}\n",
    "\\end{aligned}\n",
    "$$\n",
    "\n",
    "Similarly, measuring $|1\\rangle$ in state $|-_n\\rangle$ is\n",
    "\n",
    "$$\n",
    "\\begin{aligned}\n",
    "\\langle 1 | +_n \\rangle &= \\sin{\\frac{\\theta}{2}}\\\\\n",
    "|\\langle 1 | +_n \\rangle|^2 &= \\sin^2{\\frac{\\theta}{2}}\n",
    "\\end{aligned}\n",
    "$$"
   ]
  },
  {
   "cell_type": "markdown",
   "metadata": {},
   "source": [
    "We define angles between the axes as $\\theta_{ZX}, \\theta_{ZQ}, \\theta_{XQ}$. We then consider the state\n",
    "\n",
    "$$\n",
    "|\\psi\\rangle = \\frac{|Z_+\\rangle |Z_-\\rangle - |Z_-\\rangle |Z_+\\rangle}{\\sqrt{2}}\n",
    "$$\n",
    "\n",
    "We can then calculate the probability of measuring +1 on both $Z,Q$.\n",
    "\n",
    "$$\n",
    "\\begin{aligned}\n",
    "\\langle Z_+  Q_+ | \\psi \\rangle &= \\frac{\\langle Z_+|Z_+ \\rangle\\langle Q_+|Z_-\\rangle - \\langle Z_+|Z_-\\rangle\\langle Q_+|Z_+\\rangle}{\\sqrt{2}}\\\\\n",
    "&= \\frac{\\langle Q_+|Z_- \\rangle}{\\sqrt{2}}\\\\\n",
    "&= \\frac{1}{\\sqrt{2}} \\sin{\\frac{\\theta_{ZQ}}{2}}\\\\\n",
    "\\text{Pr}(Z_+,Q_+) &= \\frac{1}{2} \\sin^2{\\frac{\\theta_{ZQ}}{2}}\n",
    "\\end{aligned}\n",
    "$$\n",
    "\n",
    "Similarly, we can calculate the probabilities for $\\theta_{ZX}$ and $\\theta_{XQ}$.\n",
    "\n",
    "$$\n",
    "\\begin{aligned}\n",
    "\\text{Pr}(Z_+, X_+) &= \\frac{1}{2} \\sin^2{\\frac{\\theta_{ZX}}{2}}\\\\\n",
    "\\text{Pr}(X_+, Q_+) &= \\frac{1}{2} \\sin^2{\\frac{\\theta_{XQ}}{2}}\n",
    "\\end{aligned}\n",
    "$$\n",
    "\n",
    "Plugging this into the Bell's inequality,\n",
    "\n",
    "$$\n",
    "\\begin{aligned}\n",
    "\\text{Pr}(Z_+, X_+) &\\leq \\text{Pr}(Z_+, Q_+) + \\text{Pr}(Q_+, X_+)\\\\\n",
    "\\frac{1}{2} \\sin^2{\\frac{\\theta_{ZX}}{2}} &\\leq \\frac{1}{2} \\sin^2{\\frac{\\theta_{ZQ}}{2}} + \\frac{1}{2} \\sin^2{\\frac{\\theta_{XQ}}{2}}\n",
    "\\end{aligned}\n",
    "$$\n",
    "\n",
    "However, since we know that $Z$ and $X$ are orthogonal, then $\\theta_{ZX}=90^\\circ$. The other angles are $\\theta_{ZQ}=\\theta_{XQ}=45^\\circ$.\n",
    "\n",
    "$$\n",
    "\\begin{aligned}\n",
    "\n",
    "\\frac{1}{2} \\sin^2{\\frac{\\theta_{ZX}}{2}} &\\leq \\frac{1}{2} \\sin^2{\\frac{\\theta_{ZQ}}{2}} + \\frac{1}{2} \\sin^2{\\frac{\\theta_{XQ}}{2}}\\\\\n",
    "\\frac{1}{2} \\sin^2{\\frac{90^\\circ}{2}} &\\leq \\frac{1}{2} \\sin^2{\\frac{45^\\circ}{2}} + \\frac{1}{2} \\sin^2{\\frac{45^\\circ}{2}}\\\\\n",
    "\\sin^2{\\frac{90^\\circ}{2}} &\\leq \\sin^2{\\frac{45^\\circ}{2}} + \\sin^2{\\frac{45^\\circ}{2}}\\\\\n",
    "0.5 &\\leq 0.15 + 0.15\\\\\n",
    "0.5 &\\leq 0.30\n",
    "\n",
    "\\end{aligned}\n",
    "$$\n",
    "\n",
    "The inequality does not hold. Quantum mechanics shows that it violates Bell's inequality. Thus, Bell has shown that hidden variables do not exist in quantum mechanics."
   ]
  },
  {
   "cell_type": "markdown",
   "metadata": {},
   "source": [
    "## References\n",
    "\n",
    "<ol>\n",
    "<li> Griffiths, D. J. (2005). Introduction to Quantum Mechanics. Pearson.\n",
    "<li> Young, H. D., & Freedman, R. A. (2019). University Physics with Modern Physics. Pearson.\n",
    "<li> What is superposition and why is it important? (n.d.). Caltech Science Exchange. https://scienceexchange.caltech.edu/topics/quantum-science-explained/quantum-superposition\n",
    "<li> McMahon, D. (2007). Quantum Computing explained. Wiley-IEEE Computer Society Press.\n",
    "</ol>"
   ]
  },
  {
   "cell_type": "markdown",
   "metadata": {},
   "source": []
  }
 ],
 "metadata": {
  "language_info": {
   "name": "python"
  }
 },
 "nbformat": 4,
 "nbformat_minor": 2
}
